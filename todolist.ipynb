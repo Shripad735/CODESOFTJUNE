{
 "cells": [
  {
   "cell_type": "code",
   "execution_count": 3,
   "metadata": {},
   "outputs": [],
   "source": [
    "import tkinter as tk\n",
    "\n",
    "# Create the main window\n",
    "window = tk.Tk()\n",
    "window.title(\"To-Do List\")\n",
    "\n",
    "# Create a listbox to display the tasks\n",
    "listbox = tk.Listbox(window)\n",
    "listbox.grid(row=0, column=0, sticky=\"nsew\")\n",
    "\n",
    "# Function to add a new task\n",
    "def add_task():\n",
    "  # Get the task text from the user\n",
    "  task_text = input(\"Enter a task: \")\n",
    "\n",
    "  # Add the task to the listbox\n",
    "  listbox.insert(\"end\", task_text)\n",
    "\n",
    "# Create a button to add a new task\n",
    "add_button = tk.Button(window, text=\"Add Task\", command=add_task)\n",
    "add_button.grid(row=1, column=0)\n",
    "\n",
    "# Function to mark a task as completed\n",
    "def mark_completed():\n",
    "  # Get the selected task from the listbox\n",
    "  selected_task = listbox.get(\"active\")\n",
    "\n",
    "  # Mark the task as completed by appending a \"✔\" to the end\n",
    "  listbox.delete(\"active\")\n",
    "  listbox.insert(\"end\", selected_task + \" ✔\")\n",
    "\n",
    "# Create a button to mark a task as completed\n",
    "mark_completed_button = tk.Button(window, text=\"Mark Completed\", command=mark_completed)\n",
    "mark_completed_button.grid(row=2, column=0)\n",
    "\n",
    "# Function to delete a task\n",
    "def delete_task():\n",
    "  # Get the selected task from the listbox\n",
    "  selected_task = listbox.get(\"active\")\n",
    "\n",
    "  # Delete the task from the listbox\n",
    "  listbox.delete(\"active\")\n",
    "\n",
    "# Create a button to delete a task\n",
    "delete_button = tk.Button(window, text=\"Delete Task\", command=delete_task)\n",
    "delete_button.grid(row=3, column=0)\n",
    "\n",
    "def update():\n",
    "    # Do something here...\n",
    "    window.after(3000, update) # Call this function again in 3 second\n",
    "\n",
    "update() # Start calling update() function\n",
    "\n",
    "# Start the mainloop\n",
    "window.mainloop()\n"
   ]
  }
 ],
 "metadata": {
  "kernelspec": {
   "display_name": "Python 3",
   "language": "python",
   "name": "python3"
  },
  "language_info": {
   "codemirror_mode": {
    "name": "ipython",
    "version": 3
   },
   "file_extension": ".py",
   "mimetype": "text/x-python",
   "name": "python",
   "nbconvert_exporter": "python",
   "pygments_lexer": "ipython3",
   "version": "3.11.4"
  },
  "orig_nbformat": 4
 },
 "nbformat": 4,
 "nbformat_minor": 2
}
